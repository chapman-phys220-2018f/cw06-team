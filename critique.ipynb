{
 "cells": [
  {
   "cell_type": "markdown",
   "metadata": {
    "collapsed": false
   },
   "source": [
    "###### "
   ]
  },
  {
   "cell_type": "markdown",
   "metadata": {
    "collapsed": false
   },
   "source": [
    "# CW 04 Critique\n",
    "\n",
    "### Critique of Jacob's Work\n",
    "\n",
    "The module primes.py is organized well, and it is clear what each function does. Each of the functions has a docstring, but the module docstring is missing and the names of the teammembers are missing at the top. The code works and the algorithm is easy to follow. The module passes all nosetests and Travis tests.\n",
    "\n",
    "Score: 95/100\n",
    "\n",
    "### Critique of Abby's Work\n",
    "\n",
    "The python module, prime.py, is clearly organized, with descriptive function names. The code doesn't contain any docstrings, however. The algorithm contained in each function seems easy enough to follow, and see what is happening in each step. The code does pass the nosetests by Travis, verifying functionality.\n",
    "\n",
    "Score: 95/100"
   ]
  }
 ],
 "metadata": {
  "kernelspec": {
   "display_name": "Python 3 (Anaconda 5)",
   "language": "python",
   "name": "anaconda5"
  }
 },
 "nbformat": 4,
 "nbformat_minor": 0
}